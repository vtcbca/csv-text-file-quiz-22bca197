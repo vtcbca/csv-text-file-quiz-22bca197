{
 "cells": [
  {
   "cell_type": "markdown",
   "id": "0b3d7a2c",
   "metadata": {},
   "source": [
    " Create Contact.csv file which contain name,contact. Use \"|\" as Delimiter.\n",
    "    Search perticular contact by entering person name . "
   ]
  },
  {
   "cell_type": "code",
   "execution_count": 4,
   "id": "b318e348",
   "metadata": {},
   "outputs": [],
   "source": [
    "import csv"
   ]
  },
  {
   "cell_type": "code",
   "execution_count": 36,
   "id": "11d84b75",
   "metadata": {},
   "outputs": [
    {
     "name": "stdout",
     "output_type": "stream",
     "text": [
      "{'name|contact': 'janvi|4521789630'}\n",
      "{'name|contact': 'jay|3621457890'}\n",
      "{'name|contact': 'om|2013654078'}\n",
      "{'name|contact': 'sai|3214785692'}\n",
      "{'name|contact': 'ram|4563217890'}\n"
     ]
    }
   ],
   "source": [
    " with open (\"C:/197/contact.csv\",'r', newline='')as file:\n",
    "        reader=csv.DictReader(file)\n",
    "        for i in reader:\n",
    "            print(i)"
   ]
  },
  {
   "cell_type": "code",
   "execution_count": 33,
   "id": "aaab95aa",
   "metadata": {},
   "outputs": [],
   "source": [
    "def search_contact(name):\n",
    "    with open (\"C:/197/contact.csv\",'r', newline='')as file:\n",
    "        reader=csv.DictReader(file,delimiter=\"|\")\n",
    "        for row in reader:\n",
    "            if row[\"name\"]==name:\n",
    "                return row[\"contact\"]\n",
    "        return \"contact not found.\""
   ]
  },
  {
   "cell_type": "code",
   "execution_count": 34,
   "id": "90e038b9",
   "metadata": {},
   "outputs": [
    {
     "name": "stdout",
     "output_type": "stream",
     "text": [
      "Enter the person's name:om\n",
      "2013654078\n"
     ]
    }
   ],
   "source": [
    "search_name=input(\"Enter the person's name:\")\n",
    "result=search_contact(search_name)\n",
    "print(result)"
   ]
  },
  {
   "cell_type": "code",
   "execution_count": null,
   "id": "80b6b176",
   "metadata": {},
   "outputs": [],
   "source": []
  }
 ],
 "metadata": {
  "kernelspec": {
   "display_name": "Python 3 (ipykernel)",
   "language": "python",
   "name": "python3"
  },
  "language_info": {
   "codemirror_mode": {
    "name": "ipython",
    "version": 3
   },
   "file_extension": ".py",
   "mimetype": "text/x-python",
   "name": "python",
   "nbconvert_exporter": "python",
   "pygments_lexer": "ipython3",
   "version": "3.11.4"
  }
 },
 "nbformat": 4,
 "nbformat_minor": 5
}
